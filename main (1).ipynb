{
  "nbformat": 4,
  "nbformat_minor": 0,
  "metadata": {
    "colab": {
      "provenance": []
    },
    "kernelspec": {
      "name": "python3",
      "display_name": "Python 3"
    },
    "language_info": {
      "name": "python"
    }
  },
  "cells": [
    {
      "cell_type": "code",
      "execution_count": 26,
      "metadata": {
        "id": "P8pq9edaMjI8",
        "colab": {
          "base_uri": "https://localhost:8080/"
        },
        "outputId": "8de19cd2-41a0-427e-f3b1-ff9d5dc80051"
      },
      "outputs": [
        {
          "output_type": "stream",
          "name": "stdout",
          "text": [
            "Entrez le symbole de l'atome (premiere lettre en majuscule): O\n",
            "Entrez la charge de l'atome (entrez le symbole - ou + avant le chiffre): -2\n",
            "Entrez le premier facteur du nombre de particules (ex: si c est:  5.34 * 10**23 particules ecrivez 5.34): 7.25\n",
            "Entrez l exposant du deuxieme facteur (ex: si c est:  5.34 * 10**23 particules ecrivez 23): 15\n",
            "Nombre(s) d'electrons: 7.25e+16\n",
            "Nombre(s) de protons: 5.8e+16\n",
            "Nombre(s) de neutrons: 5.8e+16\n"
          ]
        }
      ],
      "source": [
        "import csv\n",
        "\n",
        "def opentable(filename):\n",
        "  with open(filename, newline=\"\") as f:\n",
        "    reader = csv.reader(f)\n",
        "    return list(reader)\n",
        "\n",
        "anum = dict(opentable(\"/table1.csv\"))\n",
        "amass = [float(x[0]) for x in opentable(\"/table2.csv\")]\n",
        "\n",
        "\n",
        "def nbr_particules(element, charge, nbr_atomes):\n",
        "  # electrons\n",
        "  electrons = int(anum[element])\n",
        "\n",
        "  if int(charge) != 0:\n",
        "    electrons = (electrons - int(charge)) * nbr_atomes\n",
        "\n",
        "\n",
        "\n",
        "\n",
        "\n",
        "  # protons\n",
        "  protons = (int(anum[element])) * nbr_atomes\n",
        "\n",
        "  # neutrons\n",
        "  if amass[int(anum[element])] == -1.0:\n",
        "    return \"Nombre(s) d'electrons: \" + str(electrons)+ \"\\n\"+ \"Nombre(s) de protons: \"+ str(protons)+\"\\n\"+\"Nombre(s) de neutrons: \"+ \"MASSE ATOMIQUE INDÉFINIE (NOMBRE DE NEUTRONS INCALCULABLE)\"\n",
        "\n",
        "\n",
        "  else:\n",
        "    neutrons = ((round(amass[int(anum[element])], 0) - (int(anum[element])))) * nbr_atomes\n",
        "    return \"Nombre(s) d'electrons: \" + str(electrons)+ \"\\n\"+ \"Nombre(s) de protons: \"+ str(protons)+\"\\n\"+\"Nombre(s) de neutrons: \"+ str(neutrons)\n",
        "\n",
        "\n",
        "atome = str(input(\"Entrez le symbole de l'atome (premiere lettre en majuscule): \"))\n",
        "charge_atomique = int(input(\"Entrez la charge de l'atome (entrez le symbole - ou + avant le chiffre): \" ))\n",
        "premier_fact= float(input('Entrez le premier facteur du nombre de particules (ex: si c est:  5.34 * 10**23 particules ecrivez 5.34): '))\n",
        "exposant = float(input('Entrez l exposant du deuxieme facteur (ex: si c est:  5.34 * 10**23 particules ecrivez 23): '))\n",
        "nbr_atome = premier_fact * 10**exposant\n",
        "\n",
        "print(nbr_particules(atome, charge_atomique,nbr_atome))\n",
        "\n",
        "\n",
        "\n",
        "\n",
        "\n",
        "\n",
        "\n",
        "\n",
        "\n",
        "\n",
        "\n",
        "\n",
        "\n",
        "\n",
        "\n",
        "\n",
        "\n",
        "\n",
        "\n",
        "\n",
        "\n",
        "\n",
        "\n",
        "\n",
        "\n",
        "\n",
        "\n"
      ]
    },
    {
      "cell_type": "code",
      "source": [],
      "metadata": {
        "colab": {
          "base_uri": "https://localhost:8080/"
        },
        "id": "lz2NojS5vMQ7",
        "outputId": "da934417-cf83-40e8-aa04-219eb65bec1f"
      },
      "execution_count": 18,
      "outputs": [
        {
          "output_type": "stream",
          "name": "stdout",
          "text": [
            "404.0\n"
          ]
        }
      ]
    }
  ]
}