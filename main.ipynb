{
  "nbformat": 4,
  "nbformat_minor": 0,
  "metadata": {
    "colab": {
      "provenance": [],
      "mount_file_id": "https://github.com/vladt2007/integ_chim_2024-5/blob/dictionnary/main.ipynb",
      "authorship_tag": "ABX9TyOnS7WAhipZDjTItlpXmjNO",
      "include_colab_link": true
    },
    "kernelspec": {
      "name": "python3",
      "display_name": "Python 3"
    },
    "language_info": {
      "name": "python"
    }
  },
  "cells": [
    {
      "cell_type": "markdown",
      "metadata": {
        "id": "view-in-github",
        "colab_type": "text"
      },
      "source": [
        "<a href=\"https://colab.research.google.com/github/vladt2007/integ_chim_2024-5/blob/dictionnary/main.ipynb\" target=\"_parent\"><img src=\"https://colab.research.google.com/assets/colab-badge.svg\" alt=\"Open In Colab\"/></a>"
      ]
    },
    {
      "cell_type": "code",
      "execution_count": null,
      "metadata": {
        "id": "P8pq9edaMjI8",
        "colab": {
          "base_uri": "https://localhost:8080/"
        },
        "outputId": "828e5bae-81f5-4aa3-f999-b17595e9f81d"
      },
      "outputs": [
        {
          "output_type": "stream",
          "name": "stdout",
          "text": [
            "{'H': '1', 'He': '2', 'Li': '3', 'Be': '4', 'B': '5', 'C': '6', 'N': '7', 'O': '8', 'F': '9', 'Ne': '10', 'Na': '11', 'Mg': '12', 'Al': '13', 'Si': '14', 'P': '15', 'S': '16', 'Cl': '17', 'Ar': '18', 'K': '19', 'Ca': '20', 'Sc': '21', 'Ti': '22', 'V': '23', 'Cr': '24', 'Mn': '25', 'Fe': '26', 'Co': '27', 'Ni': '28', 'Cu': '29', 'Zn': '30', 'Ga': '31', 'Ge': '32', 'As': '33', 'Se': '34', 'Br': '35', 'Kr': '36', 'Rb': '37', 'Sr': '38', 'Y': '39', 'Zr': '40', 'Nb': '41', 'Mo': '42', 'Tc': '43', 'Ru': '44', 'Rh': '45', 'Pd': '46', 'Ag': '47', 'Cd': '48', 'In': '49', 'Sn': '50', 'Sb': '51', 'Te': '52', 'I': '53', 'Xe': '54', 'Cs': '55', 'Ba': '56', 'La': '57', 'Ce': '58', 'Pr': '59', 'Nd': '60', 'Pm': '61', 'Sm': '62', 'Eu': '63', 'Gd': '64', 'Tb': '65', 'Dy': '66', 'Ho': '67', 'Er': '68', 'Tm': '69', 'Yb': '70', 'Lu': '71', 'Hf': '72', 'Ta': '73', 'W': '74', 'Re': '75', 'Os': '76', 'Ir': '77', 'Pt': '78', 'Au': '79', 'Hg': '80', 'Tl': '81', 'Pb': '82', 'Bi': '83', 'Po': '84', 'At': '85', 'Rn': '86', 'Fr': '87', 'Ra': '88', 'Ac': '89', 'Th': '90', 'Pa': '91', 'U': '92', 'Np': '93', 'Pu': '94', 'Am': '95', 'Cm': '96', 'Bk': '97', 'Cf': '98', 'Es': '99', 'Fm': '100', 'Md': '101', 'No': '102', 'Lr': '103', 'Rf': '104', 'Db': '105', 'Sg': '106', 'Bh': '107', 'Hs': '108', 'Mt': '109', 'Ds': '110', 'Rg': '111', 'Cn': '112', 'Nh': '113', 'Fl': '114', 'Mc': '115', 'Lv': '116', 'Ts': '117', 'Og': '118'}\n",
            "[0.0, 1.008, 4.0026, 6.94, 9.0122, 10.81, 12.011, 14.007, 15.999, 18.998, 20.18, 22.99, 24.305, 26.982, 28.085, 30.974, 32.06, 35.45, 39.95, 39.098, 40.078, 44.956, 47.867, 50.942, 51.996, 54.938, 55.845, 58.933, 58.693, 63.546, 65.38, 69.723, 72.63, 74.922, 78.971, 79.904, 83.798, 85.468, 87.62, 88.906, 91.222, 92.906, 95.95, -1.0, 101.07, 102.91, 106.42, 107.87, 112.41, 114.82, 118.71, 121.76, 127.6, 126.9, 131.29, 132.91, 137.33, 138.91, 140.12, 140.91, 144.24, -1.0, 150.36, 151.96, 157.25, 158.93, 162.5, 164.93, 167.26, 168.93, 173.05, 174.97, 178.49, 180.95, 183.84, 186.21, 190.23, 192.22, 195.08, 196.97, 200.59, 204.38, 207.2, 208.98, -1.0, -1.0, -1.0, -1.0, -1.0, -1.0, 232.04, 231.04, 238.03, -1.0, -1.0, -1.0, -1.0, -1.0, -1.0, -1.0, -1.0, -1.0, -1.0, -1.0, -1.0, -1.0, -1.0, -1.0, -1.0, -1.0, -1.0, -1.0, -1.0, -1.0, -1.0, -1.0, -1.0, -1.0, -1.0]\n",
            "10\n",
            "20.18\n"
          ]
        }
      ],
      "source": [
        "\"\"\"\n",
        "------------------------------------------------------------------------------\n",
        "!!! ATTENTION, BESOIN DU FICHIER table1.csv ET table2.csv POUR FONCTIONNER !!!\n",
        "------------------------------------------------------------------------------\n",
        "\n",
        "\n",
        "Comment accéder au tableau périodique ?\n",
        "\n",
        "Numéro atomique:\n",
        "int(anum[élément])\n",
        "Ex: Neon\n",
        "int(anum[\"Ne\"])\n",
        "\n",
        "Masse atomique:\n",
        "amass[int(anum[élément])]\n",
        "Ex: Neon\n",
        "amass[int(anum[\"Ne\"])]\n",
        "\n",
        "Pour calculer la quantité de neutrons:\n",
        "\n",
        "int(Masse atomique) - Nbr. atomique\n",
        "\n",
        "\n",
        "-------------------------------------------------------------------------------------------------\n",
        "!!! ATTENTION, SI MASSE ATOMIQUE = -1 MASSE ATOMIQUE INDÉFINIE (NBR DE NEUTRONS INCALCULABLE) !!!\n",
        "-------------------------------------------------------------------------------------------------\n",
        "\n",
        "\"\"\"\n",
        "\n",
        "\n",
        "\n",
        "\n",
        "\n",
        "import csv\n",
        "\n",
        "def opentable(filename):\n",
        "  with open(filename, newline=\"\") as f:\n",
        "    reader = csv.reader(f)\n",
        "    return list(reader)\n",
        "\n",
        "anum = dict(opentable(\"/content/drive/MyDrive/table1.csv\"))\n",
        "\n",
        "amass = [float(x[0]) for x in opentable(\"/content/drive/MyDrive/table2.csv\")]\n",
        "\n",
        "print(anum)\n",
        "print(amass)\n",
        "\n",
        "print(int(anum[\"Ne\"]))\n",
        "print(amass[int(anum[\"Ne\"])])"
      ]
    }
  ]
}